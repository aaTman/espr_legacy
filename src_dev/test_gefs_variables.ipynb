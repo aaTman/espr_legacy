{
 "cells": [
  {
   "cell_type": "code",
   "execution_count": 2,
   "metadata": {},
   "outputs": [],
   "source": [
    "import hsa\n",
    "import numpy as np\n",
    "import xarray as xr\n",
    "import xarray.ufuncs as xu\n",
    "from dask.diagnostics import ProgressBar\n",
    "import scipy.stats as ss\n",
    "import paths as ps\n",
    "from datetime import datetime, timedelta\n",
    "import bottleneck\n",
    "import matplotlib.pyplot as plt\n",
    "import seaborn as sns\n",
    "import cfgrib"
   ]
  },
  {
   "cell_type": "code",
   "execution_count": 2,
   "metadata": {
    "scrolled": true
   },
   "outputs": [
    {
     "name": "stderr",
     "output_type": "stream",
     "text": [
      "Ignoring index file '/E1/taylorm/espr/temp/gefs_mean_024.grib2.011ab.idx' incompatible with GRIB file\n",
      "Ignoring index file '/E1/taylorm/espr/temp/gefs_mean_024.grib2.011ab.idx' incompatible with GRIB file\n",
      "Ignoring index file '/E1/taylorm/espr/temp/gefs_mean_024.grib2.011ab.idx' incompatible with GRIB file\n",
      "Ignoring index file '/E1/taylorm/espr/temp/gefs_mean_024.grib2.011ab.idx' incompatible with GRIB file\n",
      "Ignoring index file '/E1/taylorm/espr/temp/gefs_mean_024.grib2.011ab.idx' incompatible with GRIB file\n",
      "Ignoring index file '/E1/taylorm/espr/temp/gefs_mean_024.grib2.011ab.idx' incompatible with GRIB file\n",
      "Ignoring index file '/E1/taylorm/espr/temp/gefs_mean_024.grib2.011ab.idx' incompatible with GRIB file\n",
      "Ignoring index file '/E1/taylorm/espr/temp/gefs_mean_024.grib2.011ab.idx' incompatible with GRIB file\n",
      "Ignoring index file '/E1/taylorm/espr/temp/gefs_mean_024.grib2.011ab.idx' incompatible with GRIB file\n",
      "Ignoring index file '/E1/taylorm/espr/temp/gefs_mean_024.grib2.011ab.idx' incompatible with GRIB file\n",
      "Ignoring index file '/E1/taylorm/espr/temp/gefs_mean_024.grib2.011ab.idx' incompatible with GRIB file\n",
      "Ignoring index file '/E1/taylorm/espr/temp/gefs_mean_024.grib2.011ab.idx' incompatible with GRIB file\n",
      "Ignoring index file '/E1/taylorm/espr/temp/gefs_mean_024.grib2.011ab.idx' incompatible with GRIB file\n",
      "Ignoring index file '/E1/taylorm/espr/temp/gefs_mean_024.grib2.011ab.idx' incompatible with GRIB file\n",
      "Ignoring index file '/E1/taylorm/espr/temp/gefs_mean_024.grib2.011ab.idx' incompatible with GRIB file\n",
      "Ignoring index file '/E1/taylorm/espr/temp/gefs_mean_024.grib2.011ab.idx' incompatible with GRIB file\n",
      "Ignoring index file '/E1/taylorm/espr/temp/gefs_mean_024.grib2.011ab.idx' incompatible with GRIB file\n",
      "Ignoring index file '/E1/taylorm/espr/temp/gefs_mean_024.grib2.011ab.idx' incompatible with GRIB file\n",
      "Ignoring index file '/E1/taylorm/espr/temp/gefs_mean_024.grib2.011ab.idx' incompatible with GRIB file\n",
      "Ignoring index file '/E1/taylorm/espr/temp/gefs_mean_024.grib2.011ab.idx' incompatible with GRIB file\n",
      "Ignoring index file '/E1/taylorm/espr/temp/gefs_mean_024.grib2.011ab.idx' incompatible with GRIB file\n",
      "Ignoring index file '/E1/taylorm/espr/temp/gefs_mean_024.grib2.011ab.idx' incompatible with GRIB file\n",
      "Ignoring index file '/E1/taylorm/espr/temp/gefs_mean_024.grib2.011ab.idx' incompatible with GRIB file\n",
      "Ignoring index file '/E1/taylorm/espr/temp/gefs_mean_024.grib2.011ab.idx' incompatible with GRIB file\n",
      "Ignoring index file '/E1/taylorm/espr/temp/gefs_mean_024.grib2.011ab.idx' incompatible with GRIB file\n",
      "Ignoring index file '/E1/taylorm/espr/temp/gefs_mean_024.grib2.011ab.idx' incompatible with GRIB file\n",
      "Ignoring index file '/E1/taylorm/espr/temp/gefs_mean_024.grib2.011ab.idx' incompatible with GRIB file\n",
      "Ignoring index file '/E1/taylorm/espr/temp/gefs_mean_024.grib2.011ab.idx' incompatible with GRIB file\n",
      "Ignoring index file '/E1/taylorm/espr/temp/gefs_mean_024.grib2.011ab.idx' incompatible with GRIB file\n",
      "Ignoring index file '/E1/taylorm/espr/temp/gefs_mean_024.grib2.011ab.idx' incompatible with GRIB file\n",
      "Ignoring index file '/E1/taylorm/espr/temp/gefs_mean_024.grib2.011ab.idx' incompatible with GRIB file\n",
      "Ignoring index file '/E1/taylorm/espr/temp/gefs_mean_024.grib2.011ab.idx' incompatible with GRIB file\n",
      "Ignoring index file '/E1/taylorm/espr/temp/gefs_mean_024.grib2.011ab.idx' incompatible with GRIB file\n",
      "Ignoring index file '/E1/taylorm/espr/temp/gefs_mean_024.grib2.011ab.idx' incompatible with GRIB file\n",
      "Ignoring index file '/E1/taylorm/espr/temp/gefs_mean_024.grib2.011ab.idx' incompatible with GRIB file\n",
      "Ignoring index file '/E1/taylorm/espr/temp/gefs_mean_024.grib2.011ab.idx' incompatible with GRIB file\n"
     ]
    }
   ],
   "source": [
    "new_gefs = cfgrib.open_datasets(f'../temp/gefs_mean_024.grib2')\n"
   ]
  },
  {
   "cell_type": "code",
   "execution_count": 56,
   "metadata": {},
   "outputs": [
    {
     "data": {
      "text/plain": [
       "<xarray.DataArray 't' (latitude: 361, longitude: 720)>\n",
       "[259920 values with dtype=float32]\n",
       "Coordinates:\n",
       "    time           datetime64[ns] 2019-10-17T18:00:00\n",
       "    step           timedelta64[ns] 1 days\n",
       "    isobaricInhPa  int64 925\n",
       "  * latitude       (latitude) float64 90.0 89.5 89.0 88.5 ... -89.0 -89.5 -90.0\n",
       "  * longitude      (longitude) float64 0.0 0.5 1.0 1.5 ... 358.5 359.0 359.5\n",
       "    valid_time     datetime64[ns] 2019-10-18T18:00:00\n",
       "Attributes:\n",
       "    GRIB_paramId:                             130\n",
       "    GRIB_shortName:                           t\n",
       "    GRIB_units:                               K\n",
       "    GRIB_name:                                Temperature\n",
       "    GRIB_cfName:                              air_temperature\n",
       "    GRIB_cfVarName:                           t\n",
       "    GRIB_dataType:                            pf\n",
       "    GRIB_missingValue:                        9999\n",
       "    GRIB_numberOfPoints:                      259920\n",
       "    GRIB_totalNumber:                         20\n",
       "    GRIB_typeOfLevel:                         isobaricInhPa\n",
       "    GRIB_NV:                                  0\n",
       "    GRIB_stepUnits:                           1\n",
       "    GRIB_stepType:                            instant\n",
       "    GRIB_gridType:                            regular_ll\n",
       "    GRIB_gridDefinitionDescription:           Latitude/longitude. Also called...\n",
       "    GRIB_Nx:                                  720\n",
       "    GRIB_iDirectionIncrementInDegrees:        0.5\n",
       "    GRIB_iScansNegatively:                    0\n",
       "    GRIB_longitudeOfFirstGridPointInDegrees:  0.0\n",
       "    GRIB_longitudeOfLastGridPointInDegrees:   359.5\n",
       "    GRIB_Ny:                                  361\n",
       "    GRIB_jDirectionIncrementInDegrees:        0.5\n",
       "    GRIB_jPointsAreConsecutive:               0\n",
       "    GRIB_jScansPositively:                    0\n",
       "    GRIB_latitudeOfFirstGridPointInDegrees:   90.0\n",
       "    GRIB_latitudeOfLastGridPointInDegrees:    -90.0\n",
       "    long_name:                                Temperature\n",
       "    units:                                    K\n",
       "    standard_name:                            air_temperature"
      ]
     },
     "execution_count": 56,
     "metadata": {},
     "output_type": "execute_result"
    }
   ],
   "source": [
    "[n for n in new_gefs if 't' in n][0]['t'].sel(isobaricInhPa=925)"
   ]
  },
  {
   "cell_type": "code",
   "execution_count": 7,
   "metadata": {},
   "outputs": [
    {
     "ename": "NameError",
     "evalue": "name 'gefs' is not defined",
     "output_type": "error",
     "traceback": [
      "\u001b[0;31m---------------------------------------------------------------------------\u001b[0m",
      "\u001b[0;31mNameError\u001b[0m                                 Traceback (most recent call last)",
      "\u001b[0;32m<ipython-input-7-fe2af87b4e8e>\u001b[0m in \u001b[0;36m<module>\u001b[0;34m\u001b[0m\n\u001b[1;32m      3\u001b[0m     \u001b[0mmodel_date\u001b[0m\u001b[0;34m=\u001b[0m\u001b[0mdatetime\u001b[0m\u001b[0;34m.\u001b[0m\u001b[0mstrptime\u001b[0m\u001b[0;34m(\u001b[0m\u001b[0mf\u001b[0m\u001b[0;34m.\u001b[0m\u001b[0mreadlines\u001b[0m\u001b[0;34m(\u001b[0m\u001b[0;34m)\u001b[0m\u001b[0;34m[\u001b[0m\u001b[0;34m-\u001b[0m\u001b[0;36m1\u001b[0m\u001b[0;34m]\u001b[0m\u001b[0;34m[\u001b[0m\u001b[0;36m5\u001b[0m\u001b[0;34m:\u001b[0m\u001b[0;36m13\u001b[0m\u001b[0;34m]\u001b[0m\u001b[0;34m,\u001b[0m\u001b[0;34m'%Y%m%d'\u001b[0m\u001b[0;34m)\u001b[0m\u001b[0;34m\u001b[0m\u001b[0;34m\u001b[0m\u001b[0m\n\u001b[1;32m      4\u001b[0m \u001b[0mmc_wnd\u001b[0m \u001b[0;34m=\u001b[0m \u001b[0mhsa\u001b[0m\u001b[0;34m.\u001b[0m\u001b[0mMClimate\u001b[0m\u001b[0;34m(\u001b[0m\u001b[0mmodel_date\u001b[0m\u001b[0;34m,\u001b[0m \u001b[0mvariable\u001b[0m\u001b[0;34m,\u001b[0m \u001b[0;36m24\u001b[0m\u001b[0;34m,\u001b[0m \u001b[0mpercentage\u001b[0m\u001b[0;34m=\u001b[0m\u001b[0;36m10\u001b[0m\u001b[0;34m)\u001b[0m\u001b[0;34m\u001b[0m\u001b[0;34m\u001b[0m\u001b[0m\n\u001b[0;32m----> 5\u001b[0;31m \u001b[0mmc_mu\u001b[0m \u001b[0;34m=\u001b[0m \u001b[0mhsa\u001b[0m\u001b[0;34m.\u001b[0m\u001b[0mxarr_interpolate\u001b[0m\u001b[0;34m(\u001b[0m\u001b[0mmc_wnd\u001b[0m\u001b[0;34m.\u001b[0m\u001b[0mgenerate\u001b[0m\u001b[0;34m(\u001b[0m\u001b[0mtype\u001b[0m\u001b[0;34m=\u001b[0m\u001b[0;34m'mean'\u001b[0m\u001b[0;34m,\u001b[0m\u001b[0mdask\u001b[0m\u001b[0;34m=\u001b[0m\u001b[0;32mTrue\u001b[0m\u001b[0;34m)\u001b[0m\u001b[0;34m,\u001b[0m\u001b[0mgefs\u001b[0m\u001b[0;34m)\u001b[0m\u001b[0;34m\u001b[0m\u001b[0;34m\u001b[0m\u001b[0m\n\u001b[0m",
      "\u001b[0;31mNameError\u001b[0m: name 'gefs' is not defined"
     ]
    }
   ],
   "source": [
    "variable = 'wnd'\n",
    "with open(ps.log_directory + 'current_run.txt', \"r\") as f:\n",
    "    model_date=datetime.strptime(f.readlines()[-1][5:13],'%Y%m%d')\n",
    "mc_wnd = hsa.MClimate(model_date, variable, 24, percentage=10)\n",
    "mc_mu = hsa.xarr_interpolate(mc_wnd.generate(type='mean',dask=True),gefs)"
   ]
  },
  {
   "cell_type": "code",
   "execution_count": 14,
   "metadata": {},
   "outputs": [],
   "source": [
    "mc_mu=mc_wnd.generate(type='mean',dask=True)"
   ]
  },
  {
   "cell_type": "code",
   "execution_count": 28,
   "metadata": {},
   "outputs": [
    {
     "data": {
      "text/plain": [
       "<xarray.DataArray 'U-component_of_wind_height_above_ground' (time: 630, lat: 61, lon: 131)>\n",
       "dask.array<sqrt, shape=(630, 61, 131), dtype=float32, chunksize=(1, 61, 131), chunktype=numpy.ndarray>\n",
       "Coordinates:\n",
       "  * lat      (lat) float32 20.0 21.0 22.0 23.0 24.0 ... 76.0 77.0 78.0 79.0 80.0\n",
       "  * lon      (lon) float32 180.0 181.0 182.0 183.0 ... 307.0 308.0 309.0 310.0\n",
       "  * time     (time) datetime64[ns] 2012-10-07 2012-10-07 ... 2012-10-27"
      ]
     },
     "execution_count": 28,
     "metadata": {},
     "output_type": "execute_result"
    }
   ],
   "source": [
    "mc_mu[[n for n in mc_mu.data_vars][0]]"
   ]
  },
  {
   "cell_type": "code",
   "execution_count": 22,
   "metadata": {},
   "outputs": [
    {
     "data": {
      "text/plain": [
       "<xarray.DataArray (time: 630, lat: 61, lon: 131)>\n",
       "dask.array<sqrt, shape=(630, 61, 131), dtype=float32, chunksize=(1, 61, 131), chunktype=numpy.ndarray>\n",
       "Coordinates:\n",
       "  * lat      (lat) float32 20.0 21.0 22.0 23.0 24.0 ... 76.0 77.0 78.0 79.0 80.0\n",
       "  * lon      (lon) float32 180.0 181.0 182.0 183.0 ... 307.0 308.0 309.0 310.0\n",
       "  * time     (time) datetime64[ns] 2012-10-07 2012-10-07 ... 2012-10-27"
      ]
     },
     "execution_count": 22,
     "metadata": {},
     "output_type": "execute_result"
    }
   ],
   "source": [
    "xu.sqrt(mc_mu[[n for n in mc_mu.data_vars][0]]**2+mc_mu[[n for n in mc_mu.data_vars][1]]**2)"
   ]
  },
  {
   "cell_type": "code",
   "execution_count": 23,
   "metadata": {},
   "outputs": [],
   "source": [
    "file = xr.open_dataset(f'../reforecast/tmp_mean_son.nc')\n"
   ]
  },
  {
   "cell_type": "code",
   "execution_count": 25,
   "metadata": {},
   "outputs": [
    {
     "data": {
      "text/plain": [
       "<xarray.Dataset>\n",
       "Dimensions:       (fhour: 29, lat: 61, lon: 131, time: 3360)\n",
       "Coordinates:\n",
       "  * time          (time) datetime64[ns] 1989-08-21 1989-08-22 ... 2018-12-10\n",
       "  * lat           (lat) float32 20.0 21.0 22.0 23.0 24.0 ... 77.0 78.0 79.0 80.0\n",
       "  * lon           (lon) float32 180.0 181.0 182.0 183.0 ... 308.0 309.0 310.0\n",
       "  * fhour         (fhour) timedelta64[ns] 0 days 00:00:00 ... 7 days 00:00:00\n",
       "    pressure      float32 925.0\n",
       "Data variables:\n",
       "    intTime       (time) int32 ...\n",
       "    intValidTime  (time, fhour) int32 ...\n",
       "    Temperature   (time, fhour, lat, lon) float32 ...\n",
       "Attributes:\n",
       "    Conventions:  CF-1.0\n",
       "    title:        Subset of data from 2nd-generation multi-decadal ensemble r...\n",
       "    institution:  NOAA Earth System Research Laboratory (ESRL)\n",
       "    source:       NCEP GFS v 9.01, T254L42.  Control initial conditions from ...\n",
       "    references:   http://www.esrl.noaa.gov/psd/forecasts/reforecast2/index.html\n",
       "    history:      Subset created 2019-10-03 05:02:08 UTC\n",
       "    comment:      Original dataset generated on DOE's supercomputers at Lawre..."
      ]
     },
     "execution_count": 25,
     "metadata": {},
     "output_type": "execute_result"
    }
   ],
   "source": [
    "file.sel(pressure=925)"
   ]
  },
  {
   "cell_type": "code",
   "execution_count": 3,
   "metadata": {},
   "outputs": [],
   "source": [
    "import importlib\n",
    "importlib.reload(hsa)\n",
    "\n",
    "variable = 'tmp850'\n",
    "hour = 24\n",
    "lons = np.arange(180,310.1,0.5)\n",
    "lats = np.arange(20,80.1,0.5)\n",
    "with open(ps.log_directory + 'current_run.txt', \"r\") as f:\n",
    "    model_date=datetime.strptime(f.readlines()[-1][5:13],'%Y%m%d')\n",
    "mc_wnd = hsa.MClimate(model_date, variable, hour, percentage=10)\n",
    "nfa = hsa.NewForecastArray('mean',variable,hour)\n",
    "gefs = nfa.load_forecast(subset_lat=lats,subset_lon=lons)   \n",
    "mc_mu = hsa.xarr_interpolate(mc_wnd.generate(type='mean',dask=True),gefs)"
   ]
  },
  {
   "cell_type": "code",
   "execution_count": 4,
   "metadata": {},
   "outputs": [
    {
     "name": "stdout",
     "output_type": "stream",
     "text": [
      "> /E1/taylorm/espr/src/hsa.py(254)percentile()\n",
      "-> try:\n",
      "(Pdb) mclimate\n",
      "<xarray.Dataset>\n",
      "Dimensions:      (lat: 121, lon: 261, time: 630)\n",
      "Coordinates:\n",
      "  * time         (time) datetime64[ns] 2012-10-07 2012-10-07 ... 2012-10-27\n",
      "  * lat          (lat) float64 80.0 79.5 79.0 78.5 78.0 ... 21.5 21.0 20.5 20.0\n",
      "  * lon          (lon) float64 180.0 180.5 181.0 181.5 ... 309.0 309.5 310.0\n",
      "Data variables:\n",
      "    Temperature  (time, lat, lon) float64 262.7 262.7 262.7 ... 288.6 288.6\n",
      "Attributes:\n",
      "    Conventions:  CF-1.0\n",
      "    title:        Subset of data from 2nd-generation multi-decadal ensemble r...\n",
      "    institution:  NOAA Earth System Research Laboratory (ESRL)\n",
      "    source:       NCEP GFS v 9.01, T254L42.  Control initial conditions from ...\n",
      "    references:   http://www.esrl.noaa.gov/psd/forecasts/reforecast2/index.html\n",
      "    history:      Subset created 2019-10-03 05:02:08 UTC\n",
      "    comment:      Original dataset generated on DOE's supercomputers at Lawre...\n",
      "(Pdb) forecast\n",
      "<xarray.DataArray 't' (time: 1, lat: 121, lon: 261)>\n",
      "array([[[261.8, 261.8, 261.9, ..., 252.3, 252.3, 252.3],\n",
      "        [262.5, 262.6, 262.7, ..., 252.5, 252.5, 252.4],\n",
      "        [263.6, 263.8, 264. , ..., 254.9, 254.9, 255.1],\n",
      "        ...,\n",
      "        [289.9, 289.7, 289.5, ..., 289.4, 289.1, 288.8],\n",
      "        [289.7, 289.7, 289.7, ..., 289.5, 289.3, 289.2],\n",
      "        [289.7, 289.7, 289.8, ..., 289.5, 289.5, 289.4]]], dtype=float32)\n",
      "Coordinates:\n",
      "  * time     (time) datetime64[ns] 2019-10-17T18:00:00\n",
      "  * lat      (lat) float64 80.0 79.5 79.0 78.5 78.0 ... 22.0 21.5 21.0 20.5 20.0\n",
      "  * lon      (lon) float64 180.0 180.5 181.0 181.5 ... 308.5 309.0 309.5 310.0\n",
      "Attributes:\n",
      "    GRIB_paramId:                             130\n",
      "    GRIB_shortName:                           t\n",
      "    GRIB_units:                               K\n",
      "    GRIB_name:                                Temperature\n",
      "    GRIB_cfName:                              air_temperature\n",
      "    GRIB_cfVarName:                           t\n",
      "    GRIB_dataType:                            pf\n",
      "    GRIB_missingValue:                        9999\n",
      "    GRIB_numberOfPoints:                      259920\n",
      "    GRIB_totalNumber:                         20\n",
      "    GRIB_typeOfLevel:                         isobaricInhPa\n",
      "    GRIB_NV:                                  0\n",
      "    GRIB_stepUnits:                           1\n",
      "    GRIB_stepType:                            instant\n",
      "    GRIB_gridType:                            regular_ll\n",
      "    GRIB_gridDefinitionDescription:           Latitude/longitude. Also called...\n",
      "    GRIB_Nx:                                  720\n",
      "    GRIB_iDirectionIncrementInDegrees:        0.5\n",
      "    GRIB_iScansNegatively:                    0\n",
      "    GRIB_longitudeOfFirstGridPointInDegrees:  0.0\n",
      "    GRIB_longitudeOfLastGridPointInDegrees:   359.5\n",
      "    GRIB_Ny:                                  361\n",
      "    GRIB_jDirectionIncrementInDegrees:        0.5\n",
      "    GRIB_jPointsAreConsecutive:               0\n",
      "    GRIB_jScansPositively:                    0\n",
      "    GRIB_latitudeOfFirstGridPointInDegrees:   90.0\n",
      "    GRIB_latitudeOfLastGridPointInDegrees:    -90.0\n",
      "    long_name:                                Temperature\n",
      "    units:                                    K\n",
      "    standard_name:                            air_temperature\n",
      "(Pdb) c\n"
     ]
    }
   ],
   "source": [
    "import importlib\n",
    "importlib.reload(hsa)\n",
    "percentiles = hsa.percentile(mc_mu, gefs)"
   ]
  },
  {
   "cell_type": "code",
   "execution_count": 36,
   "metadata": {},
   "outputs": [],
   "source": [
    "importlib.reload(hsa)\n",
    "variable = 'wnd'\n",
    "mc_wnd = hsa.MClimate(model_date, variable, hour)\n",
    "mc_std = hsa.xarr_interpolate(mc_wnd.generate(type='sprd',dask=True),gefs)\n",
    "subset = hsa.subset_sprd(percentiles, mc_std)\n",
    "nfa_sprd = hsa.NewForecastArray('sprd', variable, hour)\n",
    "gefs_sprd = nfa_sprd.load_forecast(subset_lat=lats,subset_lon=lons)\n",
    "hsa_final = hsa.hsa_transform(gefs_sprd, subset)"
   ]
  },
  {
   "cell_type": "code",
   "execution_count": 37,
   "metadata": {},
   "outputs": [
    {
     "data": {
      "text/plain": [
       "<xarray.DataArray (lat: 121, lon: 261)>\n",
       "dask.array<arctanh, shape=(121, 261), dtype=float32, chunksize=(121, 261), chunktype=numpy.ndarray>\n",
       "Coordinates:\n",
       "    time        datetime64[ns] 2019-10-17T18:00:00\n",
       "    step        timedelta64[ns] 1 days\n",
       "  * lat         (lat) float64 80.0 79.5 79.0 78.5 78.0 ... 21.5 21.0 20.5 20.0\n",
       "  * lon         (lon) float64 180.0 180.5 181.0 181.5 ... 309.0 309.5 310.0\n",
       "    valid_time  datetime64[ns] 2019-10-18T18:00:00"
      ]
     },
     "execution_count": 37,
     "metadata": {},
     "output_type": "execute_result"
    }
   ],
   "source": [
    "hsa_final"
   ]
  },
  {
   "cell_type": "code",
   "execution_count": 38,
   "metadata": {},
   "outputs": [
    {
     "data": {
      "text/plain": [
       "<xarray.DataArray (lat: 121, lon: 261)>\n",
       "array([[0.4031129 , 0.38183767, 0.38209945, ..., 0.31622776, 0.3       ,\n",
       "        0.29832867],\n",
       "       [0.45276928, 0.43863425, 0.4313931 , ..., 0.29068884, 0.2842534 ,\n",
       "        0.286007  ],\n",
       "       [0.5166237 , 0.5166237 , 0.5240229 , ..., 0.3522783 , 0.3466987 ,\n",
       "        0.33286634],\n",
       "       ...,\n",
       "       [0.4103657 , 0.49517673, 0.63890535, ..., 0.64140475, 0.64637446,\n",
       "        0.6720119 ],\n",
       "       [0.44821867, 0.5024938 , 0.60539246, ..., 0.5547071 , 0.5824946 ,\n",
       "        0.62681735],\n",
       "       [0.48010415, 0.47413078, 0.53712195, ..., 0.48259717, 0.49648768,\n",
       "        0.52153623]], dtype=float32)\n",
       "Coordinates:\n",
       "    time        datetime64[ns] 2019-10-17T18:00:00\n",
       "    step        timedelta64[ns] 1 days\n",
       "  * lat         (lat) float64 80.0 79.5 79.0 78.5 78.0 ... 21.5 21.0 20.5 20.0\n",
       "  * lon         (lon) float64 180.0 180.5 181.0 181.5 ... 309.0 309.5 310.0\n",
       "    valid_time  datetime64[ns] 2019-10-18T18:00:00"
      ]
     },
     "execution_count": 38,
     "metadata": {},
     "output_type": "execute_result"
    }
   ],
   "source": [
    "gefs_sprd"
   ]
  },
  {
   "cell_type": "code",
   "execution_count": 39,
   "metadata": {},
   "outputs": [],
   "source": [
    "nfa_mean = hsa.NewForecastArray('mean', variable, hour)\n",
    "gefs_mean = nfa_mean.load_forecast(subset_lat=lats,subset_lon=lons)"
   ]
  },
  {
   "cell_type": "code",
   "execution_count": 72,
   "metadata": {},
   "outputs": [
    {
     "data": {
      "text/plain": [
       "<module 'plot' from '/E1/taylorm/espr/src/plot.py'>"
      ]
     },
     "execution_count": 72,
     "metadata": {},
     "output_type": "execute_result"
    }
   ],
   "source": [
    "import plot as plot\n",
    "importlib.reload(plot)"
   ]
  },
  {
   "cell_type": "code",
   "execution_count": null,
   "metadata": {},
   "outputs": [],
   "source": []
  }
 ],
 "metadata": {
  "kernelspec": {
   "display_name": "espr",
   "language": "python",
   "name": "espr"
  },
  "language_info": {
   "codemirror_mode": {
    "name": "ipython",
    "version": 3
   },
   "file_extension": ".py",
   "mimetype": "text/x-python",
   "name": "python",
   "nbconvert_exporter": "python",
   "pygments_lexer": "ipython3",
   "version": "3.7.4"
  }
 },
 "nbformat": 4,
 "nbformat_minor": 2
}
