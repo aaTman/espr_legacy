{
 "cells": [
  {
   "cell_type": "code",
   "execution_count": 1,
   "metadata": {},
   "outputs": [],
   "source": [
    "import hsa\n",
    "import numpy as np\n",
    "import xarray as xr\n",
    "import xarray.ufuncs as xu\n",
    "from dask.diagnostics import ProgressBar\n",
    "import scipy.stats as ss\n",
    "import paths as ps\n",
    "from datetime import datetime, timedelta"
   ]
  },
  {
   "cell_type": "code",
   "execution_count": 3,
   "metadata": {},
   "outputs": [],
   "source": [
    "lons = np.arange(180,310.1,0.5)\n",
    "lats = np.arange(20,80.1,0.5)\n",
    "nfa = hsa.NewForecastArray('mean','slp',24)\n",
    "gefs = nfa.load_forecast(subset_lat=lats,subset_lon=lons)\n"
   ]
  },
  {
   "cell_type": "code",
   "execution_count": 4,
   "metadata": {},
   "outputs": [],
   "source": [
    "\n",
    "variable = 'slp'\n",
    "with open(ps.log_directory + 'current_run.txt', \"r\") as f:\n",
    "    model_date=datetime.strptime(f.readlines()[-1][5:13],'%Y%m%d')\n",
    "mc = hsa.MClimate(model_date, variable, 24, percentage=10)"
   ]
  },
  {
   "cell_type": "code",
   "execution_count": 5,
   "metadata": {},
   "outputs": [],
   "source": [
    "def xarr_interpolate(original, new, on='latlon'):\n",
    "    if on == 'latlon':\n",
    "        new_lat = [i for i in new.coords if 'lat' in i][0]\n",
    "        new_lon = [i for i in new.coords if 'lon' in i][0]\n",
    "        old_lat = [i for i in original.coords if 'lat' in i][0]\n",
    "        old_lon = [i for i in original.coords if 'lon' in i][0]\n",
    "        original_i = original.interp({old_lat : new[new_lat].values}).interp({old_lon : new[new_lon].values})\n",
    "        return original_i\n",
    "    else:\n",
    "        raise Exception('latlon interpolation only works as of now...')"
   ]
  },
  {
   "cell_type": "code",
   "execution_count": 6,
   "metadata": {},
   "outputs": [],
   "source": [
    "mc_mu = xarr_interpolate(mc.generate(type='mean',dask=True),gefs)"
   ]
  },
  {
   "cell_type": "code",
   "execution_count": 12,
   "metadata": {},
   "outputs": [
    {
     "data": {
      "text/plain": [
       "<xarray.Dataset>\n",
       "Dimensions:   (lat: 121, lon: 261, time: 630)\n",
       "Coordinates:\n",
       "    fhour     timedelta64[ns] 1 days\n",
       "  * time      (time) datetime64[ns] 2012-09-30 2012-09-30 ... 2012-10-20\n",
       "  * lat       (lat) float64 80.0 79.5 79.0 78.5 78.0 ... 21.5 21.0 20.5 20.0\n",
       "  * lon       (lon) float64 180.0 180.5 181.0 181.5 ... 308.5 309.0 309.5 310.0\n",
       "Data variables:\n",
       "    Pressure  (time, lat, lon) float32 dask.array<chunksize=(1, 121, 261), meta=np.ndarray>\n",
       "Attributes:\n",
       "    Conventions:  CF-1.0\n",
       "    title:        Subset of data from 2nd-generation multi-decadal ensemble r...\n",
       "    institution:  NOAA Earth System Research Laboratory (ESRL)\n",
       "    source:       NCEP GFS v 9.01, T254L42.  Control initial conditions from ...\n",
       "    references:   http://www.esrl.noaa.gov/psd/forecasts/reforecast2/index.html\n",
       "    history:      Subset created 2019-10-03 03:57:07 UTC\n",
       "    comment:      Original dataset generated on DOE's supercomputers at Lawre..."
      ]
     },
     "execution_count": 12,
     "metadata": {},
     "output_type": "execute_result"
    }
   ],
   "source": [
    "mc_mu"
   ]
  },
  {
   "cell_type": "code",
   "execution_count": 7,
   "metadata": {},
   "outputs": [],
   "source": [
    "\n",
    "def hsa_n(variable):\n",
    "    start = datetime.now()\n",
    "    with open(ps.log_directory + 'current_run.txt', \"r\") as f:\n",
    "        model_date=datetime.strptime(f.readlines()[-1][5:13],'%Y%m%d')\n",
    "    for f in range(0,7,6):\n",
    "        start = datetime.now()\n",
    "        nfa = hsa.NewForecastArray('mean','slp',f)\n",
    "        gefs = nfa.load_forecast(subset_lat=lats,subset_lon=lons)\n",
    "        print(f'gefs took {(datetime.now()-start).total_seconds():.2f}')\n",
    "        start = datetime.now()\n",
    "        mc = hsa.MClimate(model_date, variable, f, percentage=10)\n",
    "        mc_mu = xarr_interpolate(mc.generate(type='mean',dask=True),gefs)\n",
    "        print(f'mu interpolate took {(datetime.now()-start).total_seconds():.2f}')\n",
    "        start = datetime.now()\n",
    "        mc_std = xarr_interpolate(mc.generate(type='sprd',dask=True),gefs)\n",
    "        print(f'sigma interpolate took {(datetime.now()-start).total_seconds():.2f}')\n",
    "    return mc_mu, gefs"
   ]
  },
  {
   "cell_type": "code",
   "execution_count": 8,
   "metadata": {},
   "outputs": [
    {
     "name": "stdout",
     "output_type": "stream",
     "text": [
      "gefs took 3.07\n",
      "mu interpolate took 0.23\n",
      "sigma interpolate took 0.23\n",
      "gefs took 4.78\n",
      "mu interpolate took 0.31\n",
      "sigma interpolate took 0.23\n"
     ]
    }
   ],
   "source": [
    "lons = np.arange(180,310.1,0.5)\n",
    "lats = np.arange(20,80.1,0.5)\n",
    "mc_mu,gefs=hsa_n('slp')"
   ]
  },
  {
   "cell_type": "code",
   "execution_count": 22,
   "metadata": {},
   "outputs": [],
   "source": [
    "gefs_renamed = gefs.rename_dims({'latitude':'lat','longitude':'lon'}).rename_vars({'latitude':'lat','longitude':'lon'})"
   ]
  },
  {
   "cell_type": "code",
   "execution_count": 24,
   "metadata": {},
   "outputs": [],
   "source": [
    "merged = xr.merge([mc_mu,gefs_renamed.chunk()])"
   ]
  },
  {
   "cell_type": "code",
   "execution_count": 10,
   "metadata": {},
   "outputs": [],
   "source": []
  },
  {
   "cell_type": "code",
   "execution_count": 25,
   "metadata": {},
   "outputs": [
    {
     "data": {
      "text/plain": [
       "<xarray.Dataset>\n",
       "Dimensions:     (lat: 121, lon: 261, time: 630)\n",
       "Coordinates:\n",
       "    fhour       timedelta64[ns] 06:00:00\n",
       "  * time        (time) datetime64[ns] 2012-10-01 2012-10-01 ... 2012-10-21\n",
       "  * lat         (lat) float64 80.0 79.5 79.0 78.5 78.0 ... 21.5 21.0 20.5 20.0\n",
       "  * lon         (lon) float64 180.0 180.5 181.0 181.5 ... 309.0 309.5 310.0\n",
       "    step        timedelta64[ns] 06:00:00\n",
       "    meanSea     int64 0\n",
       "    valid_time  datetime64[ns] 2019-10-11T12:00:00\n",
       "Data variables:\n",
       "    Pressure    (time, lat, lon) float32 dask.array<chunksize=(1, 121, 261), meta=np.ndarray>\n",
       "    prmsl       (lat, lon) float32 dask.array<chunksize=(121, 261), meta=np.ndarray>"
      ]
     },
     "execution_count": 25,
     "metadata": {},
     "output_type": "execute_result"
    }
   ],
   "source": [
    "merged"
   ]
  },
  {
   "cell_type": "code",
   "execution_count": 14,
   "metadata": {},
   "outputs": [],
   "source": [
    "import dask.array as dask_array\n",
    "\n",
    "def dask_percentile(arr, axis=0):\n",
    "    if len(arr.chunks[axis]) > 1:\n",
    "        msg = ('Input array cannot be chunked along the percentile '\n",
    "               'dimension.')\n",
    "        raise ValueError(msg)\n",
    "    return dask_array.map_blocks(ss.percentileofscore, arr, axis=axis,\n",
    "                                 drop_axis=axis)\n",
    "\n",
    "def percentile(arr, axis=0):\n",
    "    if isinstance(arr, dask_array.Array):\n",
    "        return dask_percentile(arr, axis=axis)\n",
    "    else:\n",
    "        return ss.percentileofscore(arr, axis=axis)"
   ]
  },
  {
   "cell_type": "code",
   "execution_count": 26,
   "metadata": {},
   "outputs": [
    {
     "data": {
      "text/plain": [
       "<xarray.Dataset>\n",
       "Dimensions:     (lat: 121, lon: 261, time: 630)\n",
       "Coordinates:\n",
       "    fhour       timedelta64[ns] 06:00:00\n",
       "  * time        (time) datetime64[ns] 2012-10-01 2012-10-01 ... 2012-10-21\n",
       "  * lat         (lat) float64 80.0 79.5 79.0 78.5 78.0 ... 21.5 21.0 20.5 20.0\n",
       "  * lon         (lon) float64 180.0 180.5 181.0 181.5 ... 309.0 309.5 310.0\n",
       "    step        timedelta64[ns] 06:00:00\n",
       "    meanSea     int64 0\n",
       "    valid_time  datetime64[ns] 2019-10-11T12:00:00\n",
       "Data variables:\n",
       "    Pressure    (time, lat, lon) float32 dask.array<chunksize=(1, 121, 261), meta=np.ndarray>\n",
       "    prmsl       (lat, lon) float32 dask.array<chunksize=(121, 261), meta=np.ndarray>"
      ]
     },
     "execution_count": 26,
     "metadata": {},
     "output_type": "execute_result"
    }
   ],
   "source": [
    "xu.sin(merged)"
   ]
  },
  {
   "cell_type": "code",
   "execution_count": null,
   "metadata": {},
   "outputs": [],
   "source": []
  }
 ],
 "metadata": {
  "kernelspec": {
   "display_name": "espr",
   "language": "python",
   "name": "espr"
  },
  "language_info": {
   "codemirror_mode": {
    "name": "ipython",
    "version": 3
   },
   "file_extension": ".py",
   "mimetype": "text/x-python",
   "name": "python",
   "nbconvert_exporter": "python",
   "pygments_lexer": "ipython3",
   "version": "3.7.4"
  }
 },
 "nbformat": 4,
 "nbformat_minor": 2
}
